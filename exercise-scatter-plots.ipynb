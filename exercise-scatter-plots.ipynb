{
 "cells": [
  {
   "cell_type": "markdown",
   "id": "47002774",
   "metadata": {
    "papermill": {
     "duration": 0.023897,
     "end_time": "2022-01-29T15:23:03.934738",
     "exception": false,
     "start_time": "2022-01-29T15:23:03.910841",
     "status": "completed"
    },
    "tags": []
   },
   "source": [
    "**This notebook is an exercise in the [Data Visualization](https://www.kaggle.com/learn/data-visualization) course.  You can reference the tutorial at [this link](https://www.kaggle.com/alexisbcook/scatter-plots).**\n",
    "\n",
    "---\n"
   ]
  },
  {
   "cell_type": "markdown",
   "id": "9b81c26b",
   "metadata": {
    "papermill": {
     "duration": 0.02329,
     "end_time": "2022-01-29T15:23:03.981494",
     "exception": false,
     "start_time": "2022-01-29T15:23:03.958204",
     "status": "completed"
    },
    "tags": []
   },
   "source": [
    "In this exercise, you will use your new knowledge to propose a solution to a real-world scenario.  To succeed, you will need to import data into Python, answer questions using the data, and generate **scatter plots** to understand patterns in the data.\n",
    "\n",
    "## Scenario\n",
    "\n",
    "You work for a major candy producer, and your goal is to write a report that your company can use to guide the design of its next product.  Soon after starting your research, you stumble across this [very interesting dataset](https://fivethirtyeight.com/features/the-ultimate-halloween-candy-power-ranking/) containing results from a fun survey to crowdsource favorite candies.\n",
    "\n",
    "## Setup\n",
    "\n",
    "Run the next cell to import and configure the Python libraries that you need to complete the exercise."
   ]
  },
  {
   "cell_type": "code",
   "execution_count": 1,
   "id": "f52f99fc",
   "metadata": {
    "execution": {
     "iopub.execute_input": "2022-01-29T15:23:04.031986Z",
     "iopub.status.busy": "2022-01-29T15:23:04.031074Z",
     "iopub.status.idle": "2022-01-29T15:23:04.914990Z",
     "shell.execute_reply": "2022-01-29T15:23:04.915467Z",
     "shell.execute_reply.started": "2022-01-29T15:22:35.399332Z"
    },
    "papermill": {
     "duration": 0.910606,
     "end_time": "2022-01-29T15:23:04.915771",
     "exception": false,
     "start_time": "2022-01-29T15:23:04.005165",
     "status": "completed"
    },
    "tags": []
   },
   "outputs": [
    {
     "name": "stdout",
     "output_type": "stream",
     "text": [
      "Setup Complete\n"
     ]
    }
   ],
   "source": [
    "import pandas as pd\n",
    "pd.plotting.register_matplotlib_converters()\n",
    "import matplotlib.pyplot as plt\n",
    "%matplotlib inline\n",
    "import seaborn as sns\n",
    "print(\"Setup Complete\")"
   ]
  },
  {
   "cell_type": "markdown",
   "id": "f2f4e852",
   "metadata": {
    "papermill": {
     "duration": 0.023829,
     "end_time": "2022-01-29T15:23:04.964079",
     "exception": false,
     "start_time": "2022-01-29T15:23:04.940250",
     "status": "completed"
    },
    "tags": []
   },
   "source": [
    "The questions below will give you feedback on your work. Run the following cell to set up our feedback system."
   ]
  },
  {
   "cell_type": "code",
   "execution_count": 2,
   "id": "ccf7d411",
   "metadata": {
    "execution": {
     "iopub.execute_input": "2022-01-29T15:23:05.018247Z",
     "iopub.status.busy": "2022-01-29T15:23:05.017599Z",
     "iopub.status.idle": "2022-01-29T15:23:05.072427Z",
     "shell.execute_reply": "2022-01-29T15:23:05.072876Z",
     "shell.execute_reply.started": "2022-01-29T15:22:36.557468Z"
    },
    "papermill": {
     "duration": 0.08443,
     "end_time": "2022-01-29T15:23:05.073023",
     "exception": false,
     "start_time": "2022-01-29T15:23:04.988593",
     "status": "completed"
    },
    "tags": []
   },
   "outputs": [
    {
     "name": "stdout",
     "output_type": "stream",
     "text": [
      "Setup Complete\n"
     ]
    }
   ],
   "source": [
    "# Set up code checking\n",
    "import os\n",
    "if not os.path.exists(\"../input/candy.csv\"):\n",
    "    os.symlink(\"../input/data-for-datavis/candy.csv\", \"../input/candy.csv\") \n",
    "from learntools.core import binder\n",
    "binder.bind(globals())\n",
    "from learntools.data_viz_to_coder.ex4 import *\n",
    "print(\"Setup Complete\")"
   ]
  },
  {
   "cell_type": "markdown",
   "id": "4b0059ff",
   "metadata": {
    "papermill": {
     "duration": 0.023169,
     "end_time": "2022-01-29T15:23:05.121102",
     "exception": false,
     "start_time": "2022-01-29T15:23:05.097933",
     "status": "completed"
    },
    "tags": []
   },
   "source": [
    "## Step 1: Load the Data\n",
    "\n",
    "Read the candy data file into `candy_data`.  Use the `\"id\"` column to label the rows."
   ]
  },
  {
   "cell_type": "code",
   "execution_count": 3,
   "id": "7a5c8d4a",
   "metadata": {
    "execution": {
     "iopub.execute_input": "2022-01-29T15:23:05.172991Z",
     "iopub.status.busy": "2022-01-29T15:23:05.172425Z",
     "iopub.status.idle": "2022-01-29T15:23:05.186027Z",
     "shell.execute_reply": "2022-01-29T15:23:05.186441Z",
     "shell.execute_reply.started": "2022-01-29T15:22:36.626571Z"
    },
    "papermill": {
     "duration": 0.041937,
     "end_time": "2022-01-29T15:23:05.186574",
     "exception": false,
     "start_time": "2022-01-29T15:23:05.144637",
     "status": "completed"
    },
    "tags": []
   },
   "outputs": [
    {
     "data": {
      "application/javascript": [
       "parent.postMessage({\"jupyterEvent\": \"custom.exercise_interaction\", \"data\": {\"outcomeType\": 1, \"valueTowardsCompletion\": 0.3333333333333333, \"interactionType\": 1, \"questionType\": 1, \"questionId\": \"1_LoadData\", \"learnToolsVersion\": \"0.3.4\", \"failureMessage\": \"\", \"exceptionClass\": \"\", \"trace\": \"\"}}, \"*\")"
      ],
      "text/plain": [
       "<IPython.core.display.Javascript object>"
      ]
     },
     "metadata": {},
     "output_type": "display_data"
    },
    {
     "data": {
      "text/markdown": [
       "<span style=\"color:#33cc33\">Correct</span>"
      ],
      "text/plain": [
       "Correct"
      ]
     },
     "metadata": {},
     "output_type": "display_data"
    }
   ],
   "source": [
    "# Path of the file to read\n",
    "candy_filepath = \"../input/candy.csv\"\n",
    "\n",
    "# Fill in the line below to read the file into a variable candy_data\n",
    "candy_data = pd.read_csv(candy_filepath,index_col='id',parse_dates=True)\n",
    "\n",
    "# Run the line below with no changes to check that you've loaded the data correctly\n",
    "step_1.check()"
   ]
  },
  {
   "cell_type": "code",
   "execution_count": 4,
   "id": "9739ec3e",
   "metadata": {
    "execution": {
     "iopub.execute_input": "2022-01-29T15:23:05.239531Z",
     "iopub.status.busy": "2022-01-29T15:23:05.238893Z",
     "iopub.status.idle": "2022-01-29T15:23:05.241972Z",
     "shell.execute_reply": "2022-01-29T15:23:05.242399Z",
     "shell.execute_reply.started": "2022-01-29T15:22:36.652508Z"
    },
    "papermill": {
     "duration": 0.030122,
     "end_time": "2022-01-29T15:23:05.242527",
     "exception": false,
     "start_time": "2022-01-29T15:23:05.212405",
     "status": "completed"
    },
    "tags": []
   },
   "outputs": [],
   "source": [
    "# Lines below will give you a hint or solution code\n",
    "#step_1.hint()\n",
    "#step_1.solution()"
   ]
  },
  {
   "cell_type": "markdown",
   "id": "feb5f574",
   "metadata": {
    "papermill": {
     "duration": 0.024444,
     "end_time": "2022-01-29T15:23:05.291884",
     "exception": false,
     "start_time": "2022-01-29T15:23:05.267440",
     "status": "completed"
    },
    "tags": []
   },
   "source": [
    "## Step 2: Review the data\n",
    "\n",
    "Use a Python command to print the first five rows of the data."
   ]
  },
  {
   "cell_type": "code",
   "execution_count": 5,
   "id": "58c4df3b",
   "metadata": {
    "execution": {
     "iopub.execute_input": "2022-01-29T15:23:05.343238Z",
     "iopub.status.busy": "2022-01-29T15:23:05.342595Z",
     "iopub.status.idle": "2022-01-29T15:23:05.362038Z",
     "shell.execute_reply": "2022-01-29T15:23:05.362537Z",
     "shell.execute_reply.started": "2022-01-29T15:22:36.659628Z"
    },
    "papermill": {
     "duration": 0.046159,
     "end_time": "2022-01-29T15:23:05.362705",
     "exception": false,
     "start_time": "2022-01-29T15:23:05.316546",
     "status": "completed"
    },
    "tags": []
   },
   "outputs": [
    {
     "data": {
      "text/html": [
       "<div>\n",
       "<style scoped>\n",
       "    .dataframe tbody tr th:only-of-type {\n",
       "        vertical-align: middle;\n",
       "    }\n",
       "\n",
       "    .dataframe tbody tr th {\n",
       "        vertical-align: top;\n",
       "    }\n",
       "\n",
       "    .dataframe thead th {\n",
       "        text-align: right;\n",
       "    }\n",
       "</style>\n",
       "<table border=\"1\" class=\"dataframe\">\n",
       "  <thead>\n",
       "    <tr style=\"text-align: right;\">\n",
       "      <th></th>\n",
       "      <th>competitorname</th>\n",
       "      <th>chocolate</th>\n",
       "      <th>fruity</th>\n",
       "      <th>caramel</th>\n",
       "      <th>peanutyalmondy</th>\n",
       "      <th>nougat</th>\n",
       "      <th>crispedricewafer</th>\n",
       "      <th>hard</th>\n",
       "      <th>bar</th>\n",
       "      <th>pluribus</th>\n",
       "      <th>sugarpercent</th>\n",
       "      <th>pricepercent</th>\n",
       "      <th>winpercent</th>\n",
       "    </tr>\n",
       "    <tr>\n",
       "      <th>id</th>\n",
       "      <th></th>\n",
       "      <th></th>\n",
       "      <th></th>\n",
       "      <th></th>\n",
       "      <th></th>\n",
       "      <th></th>\n",
       "      <th></th>\n",
       "      <th></th>\n",
       "      <th></th>\n",
       "      <th></th>\n",
       "      <th></th>\n",
       "      <th></th>\n",
       "      <th></th>\n",
       "    </tr>\n",
       "  </thead>\n",
       "  <tbody>\n",
       "    <tr>\n",
       "      <th>0</th>\n",
       "      <td>100 Grand</td>\n",
       "      <td>Yes</td>\n",
       "      <td>No</td>\n",
       "      <td>Yes</td>\n",
       "      <td>No</td>\n",
       "      <td>No</td>\n",
       "      <td>Yes</td>\n",
       "      <td>No</td>\n",
       "      <td>Yes</td>\n",
       "      <td>No</td>\n",
       "      <td>0.732</td>\n",
       "      <td>0.860</td>\n",
       "      <td>66.971725</td>\n",
       "    </tr>\n",
       "    <tr>\n",
       "      <th>1</th>\n",
       "      <td>3 Musketeers</td>\n",
       "      <td>Yes</td>\n",
       "      <td>No</td>\n",
       "      <td>No</td>\n",
       "      <td>No</td>\n",
       "      <td>Yes</td>\n",
       "      <td>No</td>\n",
       "      <td>No</td>\n",
       "      <td>Yes</td>\n",
       "      <td>No</td>\n",
       "      <td>0.604</td>\n",
       "      <td>0.511</td>\n",
       "      <td>67.602936</td>\n",
       "    </tr>\n",
       "    <tr>\n",
       "      <th>2</th>\n",
       "      <td>Air Heads</td>\n",
       "      <td>No</td>\n",
       "      <td>Yes</td>\n",
       "      <td>No</td>\n",
       "      <td>No</td>\n",
       "      <td>No</td>\n",
       "      <td>No</td>\n",
       "      <td>No</td>\n",
       "      <td>No</td>\n",
       "      <td>No</td>\n",
       "      <td>0.906</td>\n",
       "      <td>0.511</td>\n",
       "      <td>52.341465</td>\n",
       "    </tr>\n",
       "    <tr>\n",
       "      <th>3</th>\n",
       "      <td>Almond Joy</td>\n",
       "      <td>Yes</td>\n",
       "      <td>No</td>\n",
       "      <td>No</td>\n",
       "      <td>Yes</td>\n",
       "      <td>No</td>\n",
       "      <td>No</td>\n",
       "      <td>No</td>\n",
       "      <td>Yes</td>\n",
       "      <td>No</td>\n",
       "      <td>0.465</td>\n",
       "      <td>0.767</td>\n",
       "      <td>50.347546</td>\n",
       "    </tr>\n",
       "    <tr>\n",
       "      <th>4</th>\n",
       "      <td>Baby Ruth</td>\n",
       "      <td>Yes</td>\n",
       "      <td>No</td>\n",
       "      <td>Yes</td>\n",
       "      <td>Yes</td>\n",
       "      <td>Yes</td>\n",
       "      <td>No</td>\n",
       "      <td>No</td>\n",
       "      <td>Yes</td>\n",
       "      <td>No</td>\n",
       "      <td>0.604</td>\n",
       "      <td>0.767</td>\n",
       "      <td>56.914547</td>\n",
       "    </tr>\n",
       "  </tbody>\n",
       "</table>\n",
       "</div>"
      ],
      "text/plain": [
       "   competitorname chocolate fruity caramel peanutyalmondy nougat  \\\n",
       "id                                                                 \n",
       "0       100 Grand       Yes     No     Yes             No     No   \n",
       "1    3 Musketeers       Yes     No      No             No    Yes   \n",
       "2       Air Heads        No    Yes      No             No     No   \n",
       "3      Almond Joy       Yes     No      No            Yes     No   \n",
       "4       Baby Ruth       Yes     No     Yes            Yes    Yes   \n",
       "\n",
       "   crispedricewafer hard  bar pluribus  sugarpercent  pricepercent  winpercent  \n",
       "id                                                                              \n",
       "0               Yes   No  Yes       No         0.732         0.860   66.971725  \n",
       "1                No   No  Yes       No         0.604         0.511   67.602936  \n",
       "2                No   No   No       No         0.906         0.511   52.341465  \n",
       "3                No   No  Yes       No         0.465         0.767   50.347546  \n",
       "4                No   No  Yes       No         0.604         0.767   56.914547  "
      ]
     },
     "execution_count": 5,
     "metadata": {},
     "output_type": "execute_result"
    }
   ],
   "source": [
    "# Print the first five rows of the data\n",
    "candy_data.head() # Your code here"
   ]
  },
  {
   "cell_type": "markdown",
   "id": "3225c8c9",
   "metadata": {
    "papermill": {
     "duration": 0.025668,
     "end_time": "2022-01-29T15:23:05.414213",
     "exception": false,
     "start_time": "2022-01-29T15:23:05.388545",
     "status": "completed"
    },
    "tags": []
   },
   "source": [
    "The dataset contains 83 rows, where each corresponds to a different candy bar.  There are 13 columns:\n",
    "- `'competitorname'` contains the name of the candy bar. \n",
    "- the next **9** columns (from `'chocolate'` to `'pluribus'`) describe the candy.  For instance, rows with chocolate candies have `\"Yes\"` in the `'chocolate'` column (and candies without chocolate have `\"No\"` in the same column).\n",
    "- `'sugarpercent'` provides some indication of the amount of sugar, where higher values signify higher sugar content.\n",
    "- `'pricepercent'` shows the price per unit, relative to the other candies in the dataset.\n",
    "- `'winpercent'` is calculated from the survey results; higher values indicate that the candy was more popular with survey respondents.\n",
    "\n",
    "Use the first five rows of the data to answer the questions below."
   ]
  },
  {
   "cell_type": "code",
   "execution_count": 6,
   "id": "e5bbda99",
   "metadata": {
    "execution": {
     "iopub.execute_input": "2022-01-29T15:23:05.471208Z",
     "iopub.status.busy": "2022-01-29T15:23:05.470616Z",
     "iopub.status.idle": "2022-01-29T15:23:05.474275Z",
     "shell.execute_reply": "2022-01-29T15:23:05.474769Z",
     "shell.execute_reply.started": "2022-01-29T15:22:36.699631Z"
    },
    "papermill": {
     "duration": 0.035027,
     "end_time": "2022-01-29T15:23:05.474914",
     "exception": false,
     "start_time": "2022-01-29T15:23:05.439887",
     "status": "completed"
    },
    "tags": []
   },
   "outputs": [
    {
     "data": {
      "application/javascript": [
       "parent.postMessage({\"jupyterEvent\": \"custom.exercise_interaction\", \"data\": {\"outcomeType\": 1, \"valueTowardsCompletion\": 0.3333333333333333, \"interactionType\": 1, \"questionType\": 1, \"questionId\": \"2_ReviewData\", \"learnToolsVersion\": \"0.3.4\", \"failureMessage\": \"\", \"exceptionClass\": \"\", \"trace\": \"\"}}, \"*\")"
      ],
      "text/plain": [
       "<IPython.core.display.Javascript object>"
      ]
     },
     "metadata": {},
     "output_type": "display_data"
    },
    {
     "data": {
      "text/markdown": [
       "<span style=\"color:#33cc33\">Correct</span>"
      ],
      "text/plain": [
       "Correct"
      ]
     },
     "metadata": {},
     "output_type": "display_data"
    }
   ],
   "source": [
    "# Fill in the line below: Which candy was more popular with survey respondents:\n",
    "# '3 Musketeers' or 'Almond Joy'?  (Please enclose your answer in single quotes.)\n",
    "more_popular = '3 Musketeers'\n",
    "\n",
    "# Fill in the line below: Which candy has higher sugar content: 'Air Heads'\n",
    "# or 'Baby Ruth'? (Please enclose your answer in single quotes.)\n",
    "more_sugar = 'Air Heads'\n",
    "\n",
    "# Check your answers\n",
    "step_2.check()"
   ]
  },
  {
   "cell_type": "code",
   "execution_count": 7,
   "id": "7f65369c",
   "metadata": {
    "execution": {
     "iopub.execute_input": "2022-01-29T15:23:05.530378Z",
     "iopub.status.busy": "2022-01-29T15:23:05.529868Z",
     "iopub.status.idle": "2022-01-29T15:23:05.532499Z",
     "shell.execute_reply": "2022-01-29T15:23:05.533015Z",
     "shell.execute_reply.started": "2022-01-29T15:22:36.711207Z"
    },
    "papermill": {
     "duration": 0.031647,
     "end_time": "2022-01-29T15:23:05.533151",
     "exception": false,
     "start_time": "2022-01-29T15:23:05.501504",
     "status": "completed"
    },
    "tags": []
   },
   "outputs": [],
   "source": [
    "# Lines below will give you a hint or solution code\n",
    "#step_2.hint()\n",
    "#step_2.solution()"
   ]
  },
  {
   "cell_type": "markdown",
   "id": "fbd84624",
   "metadata": {
    "papermill": {
     "duration": 0.025896,
     "end_time": "2022-01-29T15:23:05.585143",
     "exception": false,
     "start_time": "2022-01-29T15:23:05.559247",
     "status": "completed"
    },
    "tags": []
   },
   "source": [
    "## Step 3: The role of sugar\n",
    "\n",
    "Do people tend to prefer candies with higher sugar content?  \n",
    "\n",
    "#### Part A\n",
    "\n",
    "Create a scatter plot that shows the relationship between `'sugarpercent'` (on the horizontal x-axis) and `'winpercent'` (on the vertical y-axis).  _Don't add a regression line just yet -- you'll do that in the next step!_"
   ]
  },
  {
   "cell_type": "code",
   "execution_count": 8,
   "id": "d214e41e",
   "metadata": {
    "execution": {
     "iopub.execute_input": "2022-01-29T15:23:05.640725Z",
     "iopub.status.busy": "2022-01-29T15:23:05.640144Z",
     "iopub.status.idle": "2022-01-29T15:23:05.848527Z",
     "shell.execute_reply": "2022-01-29T15:23:05.848052Z",
     "shell.execute_reply.started": "2022-01-29T15:22:36.719013Z"
    },
    "papermill": {
     "duration": 0.236516,
     "end_time": "2022-01-29T15:23:05.848644",
     "exception": false,
     "start_time": "2022-01-29T15:23:05.612128",
     "status": "completed"
    },
    "tags": []
   },
   "outputs": [
    {
     "data": {
      "application/javascript": [
       "parent.postMessage({\"jupyterEvent\": \"custom.exercise_interaction\", \"data\": {\"outcomeType\": 1, \"valueTowardsCompletion\": 0.3333333333333333, \"interactionType\": 1, \"questionType\": 2, \"questionId\": \"3.1_PlotBlueScatter\", \"learnToolsVersion\": \"0.3.4\", \"failureMessage\": \"\", \"exceptionClass\": \"\", \"trace\": \"\"}}, \"*\")"
      ],
      "text/plain": [
       "<IPython.core.display.Javascript object>"
      ]
     },
     "metadata": {},
     "output_type": "display_data"
    },
    {
     "data": {
      "text/markdown": [
       "<span style=\"color:#33cc33\">Correct</span>"
      ],
      "text/plain": [
       "Correct"
      ]
     },
     "metadata": {},
     "output_type": "display_data"
    },
    {
     "data": {
      "image/png": "[encoded data removed]",
      "text/plain": [
       "<Figure size 432x288 with 1 Axes>"
      ]
     },
     "metadata": {
      "needs_background": "light"
     },
     "output_type": "display_data"
    }
   ],
   "source": [
    "# Scatter plot showing the relationship between 'sugarpercent' and 'winpercent'\n",
    "sns.scatterplot(x=candy_data['sugarpercent'],y=candy_data['winpercent']) # Your code here\n",
    "\n",
    "# Check your answer\n",
    "step_3.a.check()"
   ]
  },
  {
   "cell_type": "code",
   "execution_count": 9,
   "id": "b9cf7a23",
   "metadata": {
    "execution": {
     "iopub.execute_input": "2022-01-29T15:23:05.906433Z",
     "iopub.status.busy": "2022-01-29T15:23:05.905943Z",
     "iopub.status.idle": "2022-01-29T15:23:05.908193Z",
     "shell.execute_reply": "2022-01-29T15:23:05.908644Z",
     "shell.execute_reply.started": "2022-01-29T15:22:37.006646Z"
    },
    "papermill": {
     "duration": 0.032579,
     "end_time": "2022-01-29T15:23:05.908802",
     "exception": false,
     "start_time": "2022-01-29T15:23:05.876223",
     "status": "completed"
    },
    "tags": []
   },
   "outputs": [],
   "source": [
    "# Lines below will give you a hint or solution code\n",
    "#step_3.a.hint()\n",
    "#step_3.a.solution_plot()"
   ]
  },
  {
   "cell_type": "markdown",
   "id": "ea3ac8c1",
   "metadata": {
    "papermill": {
     "duration": 0.027095,
     "end_time": "2022-01-29T15:23:05.963355",
     "exception": false,
     "start_time": "2022-01-29T15:23:05.936260",
     "status": "completed"
    },
    "tags": []
   },
   "source": [
    "#### Part B\n",
    "\n",
    "Does the scatter plot show a **strong** correlation between the two variables?  If so, are candies with more sugar relatively more or less popular with the survey respondents?"
   ]
  },
  {
   "cell_type": "code",
   "execution_count": 10,
   "id": "a691c16f",
   "metadata": {
    "execution": {
     "iopub.execute_input": "2022-01-29T15:23:06.024391Z",
     "iopub.status.busy": "2022-01-29T15:23:06.023908Z",
     "iopub.status.idle": "2022-01-29T15:23:06.026533Z",
     "shell.execute_reply": "2022-01-29T15:23:06.027013Z",
     "shell.execute_reply.started": "2022-01-29T15:22:37.014890Z"
    },
    "papermill": {
     "duration": 0.033117,
     "end_time": "2022-01-29T15:23:06.027136",
     "exception": false,
     "start_time": "2022-01-29T15:23:05.994019",
     "status": "completed"
    },
    "tags": []
   },
   "outputs": [],
   "source": [
    "#step_3.b.hint()"
   ]
  },
  {
   "cell_type": "code",
   "execution_count": 11,
   "id": "c88b75d2",
   "metadata": {
    "execution": {
     "iopub.execute_input": "2022-01-29T15:23:06.083654Z",
     "iopub.status.busy": "2022-01-29T15:23:06.083180Z",
     "iopub.status.idle": "2022-01-29T15:23:06.087728Z",
     "shell.execute_reply": "2022-01-29T15:23:06.088216Z",
     "shell.execute_reply.started": "2022-01-29T15:22:37.026121Z"
    },
    "papermill": {
     "duration": 0.03343,
     "end_time": "2022-01-29T15:23:06.088335",
     "exception": false,
     "start_time": "2022-01-29T15:23:06.054905",
     "status": "completed"
    },
    "tags": []
   },
   "outputs": [
    {
     "data": {
      "application/javascript": [
       "parent.postMessage({\"jupyterEvent\": \"custom.exercise_interaction\", \"data\": {\"interactionType\": 3, \"questionType\": 4, \"questionId\": \"3.2_ThinkBlueScatter\", \"learnToolsVersion\": \"0.3.4\", \"valueTowardsCompletion\": 0.0, \"failureMessage\": \"\", \"exceptionClass\": \"\", \"trace\": \"\", \"outcomeType\": 4}}, \"*\")"
      ],
      "text/plain": [
       "<IPython.core.display.Javascript object>"
      ]
     },
     "metadata": {},
     "output_type": "display_data"
    },
    {
     "data": {
      "text/markdown": [
       "<span style=\"color:#33cc99\">Solution:</span> The scatter plot does not show a strong correlation between the two variables. Since there is no clear relationship between the two variables, this tells us that sugar content does not play a strong role in candy popularity."
      ],
      "text/plain": [
       "Solution: The scatter plot does not show a strong correlation between the two variables. Since there is no clear relationship between the two variables, this tells us that sugar content does not play a strong role in candy popularity."
      ]
     },
     "metadata": {},
     "output_type": "display_data"
    }
   ],
   "source": [
    "# Check your answer (Run this code cell to receive credit!)\n",
    "step_3.b.solution()"
   ]
  },
  {
   "cell_type": "markdown",
   "id": "d11255cd",
   "metadata": {
    "papermill": {
     "duration": 0.027861,
     "end_time": "2022-01-29T15:23:06.144223",
     "exception": false,
     "start_time": "2022-01-29T15:23:06.116362",
     "status": "completed"
    },
    "tags": []
   },
   "source": [
    "## Step 4: Take a closer look\n",
    "\n",
    "#### Part A\n",
    "\n",
    "Create the same scatter plot you created in **Step 3**, but now with a regression line!"
   ]
  },
  {
   "cell_type": "code",
   "execution_count": 12,
   "id": "8cd6497b",
   "metadata": {
    "execution": {
     "iopub.execute_input": "2022-01-29T15:23:06.203305Z",
     "iopub.status.busy": "2022-01-29T15:23:06.202788Z",
     "iopub.status.idle": "2022-01-29T15:23:06.489786Z",
     "shell.execute_reply": "2022-01-29T15:23:06.490401Z",
     "shell.execute_reply.started": "2022-01-29T15:22:37.044909Z"
    },
    "papermill": {
     "duration": 0.317921,
     "end_time": "2022-01-29T15:23:06.490589",
     "exception": false,
     "start_time": "2022-01-29T15:23:06.172668",
     "status": "completed"
    },
    "tags": []
   },
   "outputs": [
    {
     "data": {
      "application/javascript": [
       "parent.postMessage({\"jupyterEvent\": \"custom.exercise_interaction\", \"data\": {\"outcomeType\": 1, \"valueTowardsCompletion\": 0.3333333333333333, \"interactionType\": 1, \"questionType\": 2, \"questionId\": \"4.1_PlotBlueReg\", \"learnToolsVersion\": \"0.3.4\", \"failureMessage\": \"\", \"exceptionClass\": \"\", \"trace\": \"\"}}, \"*\")"
      ],
      "text/plain": [
       "<IPython.core.display.Javascript object>"
      ]
     },
     "metadata": {},
     "output_type": "display_data"
    },
    {
     "data": {
      "text/markdown": [
       "<span style=\"color:#33cc33\">Correct</span>"
      ],
      "text/plain": [
       "Correct"
      ]
     },
     "metadata": {},
     "output_type": "display_data"
    },
    {
     "data": {
      "image/png": "[encoded data removed]",
      "text/plain": [
       "<Figure size 432x288 with 1 Axes>"
      ]
     },
     "metadata": {
      "needs_background": "light"
     },
     "output_type": "display_data"
    }
   ],
   "source": [
    "# Scatter plot w/ regression line showing the relationship between 'sugarpercent' and 'winpercent'\n",
    "sns.regplot(x=candy_data['sugarpercent'],y=candy_data['winpercent']) # Your code here\n",
    "\n",
    "# Check your answer\n",
    "step_4.a.check()"
   ]
  },
  {
   "cell_type": "code",
   "execution_count": 13,
   "id": "01fb6a54",
   "metadata": {
    "execution": {
     "iopub.execute_input": "2022-01-29T15:23:06.559264Z",
     "iopub.status.busy": "2022-01-29T15:23:06.558653Z",
     "iopub.status.idle": "2022-01-29T15:23:06.560790Z",
     "shell.execute_reply": "2022-01-29T15:23:06.561285Z",
     "shell.execute_reply.started": "2022-01-29T15:22:37.378339Z"
    },
    "papermill": {
     "duration": 0.035017,
     "end_time": "2022-01-29T15:23:06.561434",
     "exception": false,
     "start_time": "2022-01-29T15:23:06.526417",
     "status": "completed"
    },
    "tags": []
   },
   "outputs": [],
   "source": [
    "# Lines below will give you a hint or solution code\n",
    "#step_4.a.hint()\n",
    "#step_4.a.solution_plot()"
   ]
  },
  {
   "cell_type": "markdown",
   "id": "b0d760d8",
   "metadata": {
    "papermill": {
     "duration": 0.02976,
     "end_time": "2022-01-29T15:23:06.621729",
     "exception": false,
     "start_time": "2022-01-29T15:23:06.591969",
     "status": "completed"
    },
    "tags": []
   },
   "source": [
    "#### Part B\n",
    "\n",
    "According to the plot above, is there a **slight** correlation between `'winpercent'` and `'sugarpercent'`?  What does this tell you about the candy that people tend to prefer?"
   ]
  },
  {
   "cell_type": "code",
   "execution_count": 14,
   "id": "923ccf95",
   "metadata": {
    "execution": {
     "iopub.execute_input": "2022-01-29T15:23:06.684952Z",
     "iopub.status.busy": "2022-01-29T15:23:06.684403Z",
     "iopub.status.idle": "2022-01-29T15:23:06.686665Z",
     "shell.execute_reply": "2022-01-29T15:23:06.687186Z",
     "shell.execute_reply.started": "2022-01-29T15:22:37.382627Z"
    },
    "papermill": {
     "duration": 0.035083,
     "end_time": "2022-01-29T15:23:06.687318",
     "exception": false,
     "start_time": "2022-01-29T15:23:06.652235",
     "status": "completed"
    },
    "tags": []
   },
   "outputs": [],
   "source": [
    "#step_4.b.hint()"
   ]
  },
  {
   "cell_type": "code",
   "execution_count": 15,
   "id": "55c9046e",
   "metadata": {
    "execution": {
     "iopub.execute_input": "2022-01-29T15:23:06.752149Z",
     "iopub.status.busy": "2022-01-29T15:23:06.751463Z",
     "iopub.status.idle": "2022-01-29T15:23:06.756323Z",
     "shell.execute_reply": "2022-01-29T15:23:06.756842Z",
     "shell.execute_reply.started": "2022-01-29T15:22:37.398977Z"
    },
    "papermill": {
     "duration": 0.039856,
     "end_time": "2022-01-29T15:23:06.756977",
     "exception": false,
     "start_time": "2022-01-29T15:23:06.717121",
     "status": "completed"
    },
    "tags": []
   },
   "outputs": [
    {
     "data": {
      "application/javascript": [
       "parent.postMessage({\"jupyterEvent\": \"custom.exercise_interaction\", \"data\": {\"interactionType\": 3, \"questionType\": 4, \"questionId\": \"4.2_ThinkBlueReg\", \"learnToolsVersion\": \"0.3.4\", \"valueTowardsCompletion\": 0.0, \"failureMessage\": \"\", \"exceptionClass\": \"\", \"trace\": \"\", \"outcomeType\": 4}}, \"*\")"
      ],
      "text/plain": [
       "<IPython.core.display.Javascript object>"
      ]
     },
     "metadata": {},
     "output_type": "display_data"
    },
    {
     "data": {
      "text/markdown": [
       "<span style=\"color:#33cc99\">Solution:</span> Since the regression line has a slightly positive slope, this tells us that there is a slightly positive correlation between `'winpercent'` and `'sugarpercent'`. Thus, people have a slight preference for candies containing relatively more sugar."
      ],
      "text/plain": [
       "Solution: Since the regression line has a slightly positive slope, this tells us that there is a slightly positive correlation between `'winpercent'` and `'sugarpercent'`. Thus, people have a slight preference for candies containing relatively more sugar."
      ]
     },
     "metadata": {},
     "output_type": "display_data"
    }
   ],
   "source": [
    "# Check your answer (Run this code cell to receive credit!)\n",
    "step_4.b.solution()"
   ]
  },
  {
   "cell_type": "markdown",
   "id": "12e10d45",
   "metadata": {
    "papermill": {
     "duration": 0.029642,
     "end_time": "2022-01-29T15:23:06.817671",
     "exception": false,
     "start_time": "2022-01-29T15:23:06.788029",
     "status": "completed"
    },
    "tags": []
   },
   "source": [
    "## Step 5: Chocolate!\n",
    "\n",
    "In the code cell below, create a scatter plot to show the relationship between `'pricepercent'` (on the horizontal x-axis) and `'winpercent'` (on the vertical y-axis). Use the `'chocolate'` column to color-code the points.  _Don't add any regression lines just yet -- you'll do that in the next step!_"
   ]
  },
  {
   "cell_type": "code",
   "execution_count": 16,
   "id": "79be2948",
   "metadata": {
    "execution": {
     "iopub.execute_input": "2022-01-29T15:23:06.881632Z",
     "iopub.status.busy": "2022-01-29T15:23:06.880742Z",
     "iopub.status.idle": "2022-01-29T15:23:07.075181Z",
     "shell.execute_reply": "2022-01-29T15:23:07.075807Z",
     "shell.execute_reply.started": "2022-01-29T15:22:37.414545Z"
    },
    "papermill": {
     "duration": 0.227655,
     "end_time": "2022-01-29T15:23:07.075979",
     "exception": false,
     "start_time": "2022-01-29T15:23:06.848324",
     "status": "completed"
    },
    "tags": []
   },
   "outputs": [
    {
     "data": {
      "application/javascript": [
       "parent.postMessage({\"jupyterEvent\": \"custom.exercise_interaction\", \"data\": {\"outcomeType\": 1, \"valueTowardsCompletion\": 0.3333333333333333, \"interactionType\": 1, \"questionType\": 2, \"questionId\": \"5_ColorScatter\", \"learnToolsVersion\": \"0.3.4\", \"failureMessage\": \"\", \"exceptionClass\": \"\", \"trace\": \"\"}}, \"*\")"
      ],
      "text/plain": [
       "<IPython.core.display.Javascript object>"
      ]
     },
     "metadata": {},
     "output_type": "display_data"
    },
    {
     "data": {
      "text/markdown": [
       "<span style=\"color:#33cc33\">Correct</span>"
      ],
      "text/plain": [
       "Correct"
      ]
     },
     "metadata": {},
     "output_type": "display_data"
    },
    {
     "data": {
      "image/png": "[encoded data removed]",
      "text/plain": [
       "<Figure size 432x288 with 1 Axes>"
      ]
     },
     "metadata": {
      "needs_background": "light"
     },
     "output_type": "display_data"
    }
   ],
   "source": [
    "# Scatter plot showing the relationship between 'pricepercent', 'winpercent', and 'chocolate'\n",
    "sns.scatterplot(x=candy_data['pricepercent'],y=candy_data['winpercent'],hue=candy_data['chocolate']) # Your code here\n",
    "\n",
    "# Check your answer\n",
    "step_5.check()"
   ]
  },
  {
   "cell_type": "code",
   "execution_count": 17,
   "id": "7d2bb8f0",
   "metadata": {
    "execution": {
     "iopub.execute_input": "2022-01-29T15:23:07.176947Z",
     "iopub.status.busy": "2022-01-29T15:23:07.176129Z",
     "iopub.status.idle": "2022-01-29T15:23:07.178668Z",
     "shell.execute_reply": "2022-01-29T15:23:07.179268Z",
     "shell.execute_reply.started": "2022-01-29T15:22:37.715439Z"
    },
    "papermill": {
     "duration": 0.054153,
     "end_time": "2022-01-29T15:23:07.179418",
     "exception": false,
     "start_time": "2022-01-29T15:23:07.125265",
     "status": "completed"
    },
    "tags": []
   },
   "outputs": [],
   "source": [
    "# Lines below will give you a hint or solution code\n",
    "#step_5.hint()\n",
    "#step_5.solution_plot()"
   ]
  },
  {
   "cell_type": "markdown",
   "id": "254c1ba1",
   "metadata": {
    "papermill": {
     "duration": 0.048536,
     "end_time": "2022-01-29T15:23:07.276621",
     "exception": false,
     "start_time": "2022-01-29T15:23:07.228085",
     "status": "completed"
    },
    "tags": []
   },
   "source": [
    "Can you see any interesting patterns in the scatter plot?  We'll investigate this plot further  by adding regression lines in the next step!\n",
    "\n",
    "## Step 6: Investigate chocolate\n",
    "\n",
    "#### Part A\n",
    "\n",
    "Create the same scatter plot you created in **Step 5**, but now with two regression lines, corresponding to (1) chocolate candies and (2) candies without chocolate."
   ]
  },
  {
   "cell_type": "code",
   "execution_count": 18,
   "id": "43f6ea4a",
   "metadata": {
    "execution": {
     "iopub.execute_input": "2022-01-29T15:23:07.380303Z",
     "iopub.status.busy": "2022-01-29T15:23:07.379407Z",
     "iopub.status.idle": "2022-01-29T15:23:07.836645Z",
     "shell.execute_reply": "2022-01-29T15:23:07.836097Z",
     "shell.execute_reply.started": "2022-01-29T15:22:37.720266Z"
    },
    "papermill": {
     "duration": 0.511513,
     "end_time": "2022-01-29T15:23:07.836801",
     "exception": false,
     "start_time": "2022-01-29T15:23:07.325288",
     "status": "completed"
    },
    "tags": []
   },
   "outputs": [
    {
     "data": {
      "application/javascript": [
       "parent.postMessage({\"jupyterEvent\": \"custom.exercise_interaction\", \"data\": {\"outcomeType\": 1, \"valueTowardsCompletion\": 0.3333333333333333, \"interactionType\": 1, \"questionType\": 2, \"questionId\": \"6.1_PlotColorReg\", \"learnToolsVersion\": \"0.3.4\", \"failureMessage\": \"\", \"exceptionClass\": \"\", \"trace\": \"\"}}, \"*\")"
      ],
      "text/plain": [
       "<IPython.core.display.Javascript object>"
      ]
     },
     "metadata": {},
     "output_type": "display_data"
    },
    {
     "data": {
      "text/markdown": [
       "<span style=\"color:#33cc33\">Correct</span>"
      ],
      "text/plain": [
       "Correct"
      ]
     },
     "metadata": {},
     "output_type": "display_data"
    },
    {
     "data": {
      "image/png": "[encoded data removed]",
      "text/plain": [
       "<Figure size 416.375x360 with 1 Axes>"
      ]
     },
     "metadata": {
      "needs_background": "light"
     },
     "output_type": "display_data"
    }
   ],
   "source": [
    "# Color-coded scatter plot w/ regression lines\n",
    "sns.lmplot(x='pricepercent',y='winpercent',hue='chocolate',data=candy_data) # Your code here\n",
    "\n",
    "# Check your answer\n",
    "step_6.a.check()"
   ]
  },
  {
   "cell_type": "code",
   "execution_count": 19,
   "id": "5c30569c",
   "metadata": {
    "execution": {
     "iopub.execute_input": "2022-01-29T15:23:07.944952Z",
     "iopub.status.busy": "2022-01-29T15:23:07.944384Z",
     "iopub.status.idle": "2022-01-29T15:23:07.947451Z",
     "shell.execute_reply": "2022-01-29T15:23:07.946944Z",
     "shell.execute_reply.started": "2022-01-29T15:22:38.424017Z"
    },
    "papermill": {
     "duration": 0.058625,
     "end_time": "2022-01-29T15:23:07.947557",
     "exception": false,
     "start_time": "2022-01-29T15:23:07.888932",
     "status": "completed"
    },
    "tags": []
   },
   "outputs": [],
   "source": [
    "# Lines below will give you a hint or solution code\n",
    "#step_6.a.hint()\n",
    "#step_6.a.solution_plot()"
   ]
  },
  {
   "cell_type": "markdown",
   "id": "c1f70df6",
   "metadata": {
    "papermill": {
     "duration": 0.034165,
     "end_time": "2022-01-29T15:23:08.015729",
     "exception": false,
     "start_time": "2022-01-29T15:23:07.981564",
     "status": "completed"
    },
    "tags": []
   },
   "source": [
    "#### Part B\n",
    "\n",
    "Using the regression lines, what conclusions can you draw about the effects of chocolate and price on candy popularity?"
   ]
  },
  {
   "cell_type": "code",
   "execution_count": 20,
   "id": "16b3dd9c",
   "metadata": {
    "execution": {
     "iopub.execute_input": "2022-01-29T15:23:08.088696Z",
     "iopub.status.busy": "2022-01-29T15:23:08.088154Z",
     "iopub.status.idle": "2022-01-29T15:23:08.091248Z",
     "shell.execute_reply": "2022-01-29T15:23:08.090658Z",
     "shell.execute_reply.started": "2022-01-29T15:22:38.431133Z"
    },
    "papermill": {
     "duration": 0.041034,
     "end_time": "2022-01-29T15:23:08.091379",
     "exception": false,
     "start_time": "2022-01-29T15:23:08.050345",
     "status": "completed"
    },
    "tags": []
   },
   "outputs": [],
   "source": [
    "#step_6.b.hint()"
   ]
  },
  {
   "cell_type": "code",
   "execution_count": 21,
   "id": "e1fa678e",
   "metadata": {
    "execution": {
     "iopub.execute_input": "2022-01-29T15:23:08.198831Z",
     "iopub.status.busy": "2022-01-29T15:23:08.197695Z",
     "iopub.status.idle": "2022-01-29T15:23:08.203890Z",
     "shell.execute_reply": "2022-01-29T15:23:08.203319Z",
     "shell.execute_reply.started": "2022-01-29T15:22:38.447803Z"
    },
    "papermill": {
     "duration": 0.060705,
     "end_time": "2022-01-29T15:23:08.204026",
     "exception": false,
     "start_time": "2022-01-29T15:23:08.143321",
     "status": "completed"
    },
    "tags": []
   },
   "outputs": [
    {
     "data": {
      "application/javascript": [
       "parent.postMessage({\"jupyterEvent\": \"custom.exercise_interaction\", \"data\": {\"interactionType\": 3, \"questionType\": 4, \"questionId\": \"6.2_ThinkColorReg\", \"learnToolsVersion\": \"0.3.4\", \"valueTowardsCompletion\": 0.0, \"failureMessage\": \"\", \"exceptionClass\": \"\", \"trace\": \"\", \"outcomeType\": 4}}, \"*\")"
      ],
      "text/plain": [
       "<IPython.core.display.Javascript object>"
      ]
     },
     "metadata": {},
     "output_type": "display_data"
    },
    {
     "data": {
      "text/markdown": [
       "<span style=\"color:#33cc99\">Solution:</span> We'll begin with the regression line for chocolate candies. Since this line has a slightly positive slope, we can say that more expensive chocolate candies tend to be more popular (than relatively cheaper chocolate candies).  Likewise, since the regression line for candies without chocolate has a negative slope, we can say that if candies don't contain chocolate, they tend to be more popular when they are cheaper.  One important note, however, is that the dataset is quite small -- so we shouldn't invest too much trust in these patterns!  To inspire more confidence in the results, we should add more candies to the dataset."
      ],
      "text/plain": [
       "Solution: We'll begin with the regression line for chocolate candies. Since this line has a slightly positive slope, we can say that more expensive chocolate candies tend to be more popular (than relatively cheaper chocolate candies).  Likewise, since the regression line for candies without chocolate has a negative slope, we can say that if candies don't contain chocolate, they tend to be more popular when they are cheaper.  One important note, however, is that the dataset is quite small -- so we shouldn't invest too much trust in these patterns!  To inspire more confidence in the results, we should add more candies to the dataset."
      ]
     },
     "metadata": {},
     "output_type": "display_data"
    }
   ],
   "source": [
    "# Check your answer (Run this code cell to receive credit!)\n",
    "step_6.b.solution()"
   ]
  },
  {
   "cell_type": "markdown",
   "id": "24db1d5f",
   "metadata": {
    "papermill": {
     "duration": 0.052938,
     "end_time": "2022-01-29T15:23:08.310470",
     "exception": false,
     "start_time": "2022-01-29T15:23:08.257532",
     "status": "completed"
    },
    "tags": []
   },
   "source": [
    "## Step 7: Everybody loves chocolate.\n",
    "\n",
    "#### Part A\n",
    "\n",
    "Create a categorical scatter plot to highlight the relationship between `'chocolate'` and `'winpercent'`.  Put `'chocolate'` on the (horizontal) x-axis, and `'winpercent'` on the (vertical) y-axis."
   ]
  },
  {
   "cell_type": "code",
   "execution_count": 22,
   "id": "bb5260cc",
   "metadata": {
    "execution": {
     "iopub.execute_input": "2022-01-29T15:23:08.423822Z",
     "iopub.status.busy": "2022-01-29T15:23:08.420433Z",
     "iopub.status.idle": "2022-01-29T15:23:08.571860Z",
     "shell.execute_reply": "2022-01-29T15:23:08.572550Z",
     "shell.execute_reply.started": "2022-01-29T15:22:38.464987Z"
    },
    "papermill": {
     "duration": 0.207444,
     "end_time": "2022-01-29T15:23:08.572751",
     "exception": false,
     "start_time": "2022-01-29T15:23:08.365307",
     "status": "completed"
    },
    "tags": []
   },
   "outputs": [
    {
     "data": {
      "application/javascript": [
       "parent.postMessage({\"jupyterEvent\": \"custom.exercise_interaction\", \"data\": {\"outcomeType\": 1, \"valueTowardsCompletion\": 0.3333333333333333, \"interactionType\": 1, \"questionType\": 2, \"questionId\": \"7.1_PlotSwarm\", \"learnToolsVersion\": \"0.3.4\", \"failureMessage\": \"\", \"exceptionClass\": \"\", \"trace\": \"\"}}, \"*\")"
      ],
      "text/plain": [
       "<IPython.core.display.Javascript object>"
      ]
     },
     "metadata": {},
     "output_type": "display_data"
    },
    {
     "data": {
      "text/markdown": [
       "<span style=\"color:#33cc33\">Correct</span>"
      ],
      "text/plain": [
       "Correct"
      ]
     },
     "metadata": {},
     "output_type": "display_data"
    },
    {
     "data": {
      "image/png": "[encoded data removed]",
      "text/plain": [
       "<Figure size 432x288 with 1 Axes>"
      ]
     },
     "metadata": {
      "needs_background": "light"
     },
     "output_type": "display_data"
    }
   ],
   "source": [
    "# Scatter plot showing the relationship between 'chocolate' and 'winpercent'\n",
    "sns.swarmplot(x=candy_data['chocolate'],y=candy_data['winpercent']) # Your code here\n",
    "\n",
    "# Check your answer\n",
    "step_7.a.check()"
   ]
  },
  {
   "cell_type": "code",
   "execution_count": 23,
   "id": "9a7ce416",
   "metadata": {
    "execution": {
     "iopub.execute_input": "2022-01-29T15:23:08.688845Z",
     "iopub.status.busy": "2022-01-29T15:23:08.688146Z",
     "iopub.status.idle": "2022-01-29T15:23:08.690820Z",
     "shell.execute_reply": "2022-01-29T15:23:08.691380Z",
     "shell.execute_reply.started": "2022-01-29T15:22:38.646737Z"
    },
    "papermill": {
     "duration": 0.061656,
     "end_time": "2022-01-29T15:23:08.691532",
     "exception": false,
     "start_time": "2022-01-29T15:23:08.629876",
     "status": "completed"
    },
    "tags": []
   },
   "outputs": [],
   "source": [
    "# Lines below will give you a hint or solution code\n",
    "#step_7.a.hint()\n",
    "#step_7.a.solution_plot()"
   ]
  },
  {
   "cell_type": "markdown",
   "id": "d010fec0",
   "metadata": {
    "papermill": {
     "duration": 0.055233,
     "end_time": "2022-01-29T15:23:08.802198",
     "exception": false,
     "start_time": "2022-01-29T15:23:08.746965",
     "status": "completed"
    },
    "tags": []
   },
   "source": [
    "#### Part B\n",
    "\n",
    "You decide to dedicate a section of your report to the fact that chocolate candies tend to be more popular than candies without chocolate.  Which plot is more appropriate to tell this story: the plot from **Step 6**, or the plot from **Step 7**?"
   ]
  },
  {
   "cell_type": "code",
   "execution_count": 24,
   "id": "aff918f6",
   "metadata": {
    "execution": {
     "iopub.execute_input": "2022-01-29T15:23:08.916732Z",
     "iopub.status.busy": "2022-01-29T15:23:08.916100Z",
     "iopub.status.idle": "2022-01-29T15:23:08.918169Z",
     "shell.execute_reply": "2022-01-29T15:23:08.918710Z",
     "shell.execute_reply.started": "2022-01-29T15:22:38.661366Z"
    },
    "papermill": {
     "duration": 0.061142,
     "end_time": "2022-01-29T15:23:08.918871",
     "exception": false,
     "start_time": "2022-01-29T15:23:08.857729",
     "status": "completed"
    },
    "tags": []
   },
   "outputs": [],
   "source": [
    "#step_7.b.hint()"
   ]
  },
  {
   "cell_type": "code",
   "execution_count": 25,
   "id": "536f0884",
   "metadata": {
    "execution": {
     "iopub.execute_input": "2022-01-29T15:23:09.031452Z",
     "iopub.status.busy": "2022-01-29T15:23:09.030822Z",
     "iopub.status.idle": "2022-01-29T15:23:09.036255Z",
     "shell.execute_reply": "2022-01-29T15:23:09.036887Z",
     "shell.execute_reply.started": "2022-01-29T15:22:38.671693Z"
    },
    "papermill": {
     "duration": 0.063219,
     "end_time": "2022-01-29T15:23:09.037043",
     "exception": false,
     "start_time": "2022-01-29T15:23:08.973824",
     "status": "completed"
    },
    "tags": []
   },
   "outputs": [
    {
     "data": {
      "application/javascript": [
       "parent.postMessage({\"jupyterEvent\": \"custom.exercise_interaction\", \"data\": {\"interactionType\": 3, \"questionType\": 4, \"questionId\": \"7.2_ThinkSwarm\", \"learnToolsVersion\": \"0.3.4\", \"valueTowardsCompletion\": 0.0, \"failureMessage\": \"\", \"exceptionClass\": \"\", \"trace\": \"\", \"outcomeType\": 4}}, \"*\")"
      ],
      "text/plain": [
       "<IPython.core.display.Javascript object>"
      ]
     },
     "metadata": {},
     "output_type": "display_data"
    },
    {
     "data": {
      "text/markdown": [
       "<span style=\"color:#33cc99\">Solution:</span> In this case, the categorical scatter plot from **Step 7** is the more appropriate plot. While both plots tell the desired story, the plot from **Step 6** conveys far more information that could distract from the main point."
      ],
      "text/plain": [
       "Solution: In this case, the categorical scatter plot from **Step 7** is the more appropriate plot. While both plots tell the desired story, the plot from **Step 6** conveys far more information that could distract from the main point."
      ]
     },
     "metadata": {},
     "output_type": "display_data"
    }
   ],
   "source": [
    "# Check your answer (Run this code cell to receive credit!)\n",
    "step_7.b.solution()"
   ]
  },
  {
   "cell_type": "markdown",
   "id": "fd9153b4",
   "metadata": {
    "papermill": {
     "duration": 0.055379,
     "end_time": "2022-01-29T15:23:09.148681",
     "exception": false,
     "start_time": "2022-01-29T15:23:09.093302",
     "status": "completed"
    },
    "tags": []
   },
   "source": [
    "## Keep going\n",
    "\n",
    "Explore **[histograms and density plots](https://www.kaggle.com/alexisbcook/distributions)**."
   ]
  },
  {
   "cell_type": "markdown",
   "id": "5927629f",
   "metadata": {
    "papermill": {
     "duration": 0.055794,
     "end_time": "2022-01-29T15:23:09.260426",
     "exception": false,
     "start_time": "2022-01-29T15:23:09.204632",
     "status": "completed"
    },
    "tags": []
   },
   "source": [
    "---\n",
    "\n",
    "\n",
    "\n",
    "\n",
    "*Have questions or comments? Visit the [course discussion forum](https://www.kaggle.com/learn/data-visualization/discussion) to chat with other learners.*"
   ]
  }
 ],
 "metadata": {
  "kernelspec": {
   "display_name": "Python 3",
   "language": "python",
   "name": "python3"
  },
  "language_info": {
   "codemirror_mode": {
    "name": "ipython",
    "version": 3
   },
   "file_extension": ".py",
   "mimetype": "text/x-python",
   "name": "python",
   "nbconvert_exporter": "python",
   "pygments_lexer": "ipython3",
   "version": "3.7.12"
  },
  "papermill": {
   "default_parameters": {},
   "duration": 13.760962,
   "end_time": "2022-01-29T15:23:10.125347",
   "environment_variables": {},
   "exception": null,
   "input_path": "__notebook__.ipynb",
   "output_path": "__notebook__.ipynb",
   "parameters": {},
   "start_time": "2022-01-29T15:22:56.364385",
   "version": "2.3.3"
  }
 },
 "nbformat": 4,
 "nbformat_minor": 5
}
